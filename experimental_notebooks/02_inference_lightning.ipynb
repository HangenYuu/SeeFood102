{
 "cells": [
  {
   "cell_type": "code",
   "execution_count": 13,
   "metadata": {},
   "outputs": [],
   "source": [
    "import lightning as L\n",
    "import torch\n",
    "import timm\n",
    "import torch.nn.functional as F\n",
    "import torchmetrics\n",
    "from typing import Union\n",
    "from pathlib import Path\n",
    "from torchvision.datasets import Food101\n",
    "from torch.utils.data import random_split, DataLoader\n",
    "torch.set_float32_matmul_precision('high')\n",
    "\n",
    "class Food101DataModule(L.LightningDataModule):\n",
    "    def __init__(self, transform, data_dir: Union[str, Path] = \"data\", batch_size: int = 128) -> None:\n",
    "        super().__init__()\n",
    "        self.data_dir = data_dir\n",
    "        self.batch_size = batch_size\n",
    "        self.transform = transform\n",
    "\n",
    "    def prepare_data(self):\n",
    "        Food101(self.data_dir, split='train', download=True) # type: ignore\n",
    "        Food101(self.data_dir, split='test', download=True) # type: ignore\n",
    "\n",
    "    def setup(self, stage: str = 'fit'):\n",
    "        if stage == 'fit':\n",
    "            food101_full = Food101(self.data_dir, split='train', download=True, transform=self.transform) # type: ignore\n",
    "            self.food101_train, self.food101_val = random_split(food101_full, [0.8, 0.2]) # type: ignore\n",
    "\n",
    "        if stage == 'test':\n",
    "            self.food101_test = Food101(self.data_dir, split='test', download=True, transform=self.transform) # type: ignore\n",
    "\n",
    "        if stage == \"predict\":\n",
    "            self.food101_predict = Food101(self.data_dir, split='test', download=True, transform=self.transform) # type: ignore\n",
    "\n",
    "    def train_dataloader(self):\n",
    "        return DataLoader(self.food101_train, batch_size=self.batch_size, num_workers=4, pin_memory=True)\n",
    "\n",
    "    def val_dataloader(self):\n",
    "        return DataLoader(self.food101_val, batch_size=self.batch_size, num_workers=4, pin_memory=True)\n",
    "\n",
    "    def test_dataloader(self):\n",
    "        return DataLoader(self.food101_test, batch_size=self.batch_size, num_workers=4, pin_memory=True)\n",
    "\n",
    "    def predict_dataloader(self):\n",
    "        return DataLoader(self.food101_predict, batch_size=self.batch_size, num_workers=4, pin_memory=True)\n",
    "\n",
    "class Food101Classifier(L.LightningModule):\n",
    "    def __init__(self, model_name: str = \"hf_hub:timm/levit_256.fb_dist_in1k\") -> None:\n",
    "        super().__init__()\n",
    "        self.save_hyperparameters()\n",
    "        self.num_classes = 101\n",
    "        self.model = timm.create_model(model_name, pretrained=True, num_classes=101)\n",
    "        self.train_acc = torchmetrics.Accuracy(task=\"multiclass\", num_classes=101)\n",
    "        self.valid_acc = torchmetrics.Accuracy(task=\"multiclass\", num_classes=101)\n",
    "        self.f1_metric = torchmetrics.F1Score(task=\"multiclass\", num_classes=101)\n",
    "\n",
    "    def forward(self, x):\n",
    "        return self.model(x)\n",
    "\n",
    "    def training_step(self, batch, batch_idx):\n",
    "        inputs, labels = batch\n",
    "        outputs = self.forward(inputs)\n",
    "        preds = torch.argmax(outputs, 1)\n",
    "        loss = F.cross_entropy(outputs, labels)\n",
    "        self.log(\"train_loss\", loss, on_epoch=True, prog_bar=True, sync_dist=True)\n",
    "        self.train_acc(preds, labels)\n",
    "        self.log('train_acc', self.train_acc, on_epoch=True, prog_bar=True, sync_dist=True)\n",
    "        return loss\n",
    "\n",
    "    def validation_step(self, batch, batch_idx):\n",
    "        inputs, labels = batch\n",
    "        self.model.eval()\n",
    "        outputs = self.forward(inputs)\n",
    "        preds = torch.argmax(outputs, 1)\n",
    "        loss = F.cross_entropy(outputs, labels)\n",
    "        self.log(\"val_loss\", loss, prog_bar=True, sync_dist=True)\n",
    "        self.valid_acc(preds, labels)\n",
    "        self.log('val_acc', self.valid_acc, prog_bar=True, sync_dist=True)\n",
    "        self.f1_metric(preds, labels)\n",
    "        self.log(\"val_f1\", self.f1_metric, prog_bar=True, sync_dist=True)\n",
    "\n",
    "    def test_step(self, batch, batch_idx):\n",
    "        inputs, labels = batch\n",
    "        self.model.eval()\n",
    "        outputs = self.forward(inputs)\n",
    "        preds = torch.argmax(outputs, 1)\n",
    "        loss = F.cross_entropy(outputs, labels)\n",
    "        self.log(\"test_loss\", loss, prog_bar=True, sync_dist=True)\n",
    "        self.valid_acc(preds, labels)\n",
    "        self.log('test_acc', self.valid_acc, prog_bar=True, sync_dist=True)\n",
    "        self.f1_metric(preds, labels)\n",
    "        self.log(\"test_f1\", self.f1_metric, prog_bar=True, sync_dist=True)\n",
    "\n",
    "    def configure_optimizers(self):\n",
    "        return torch.optim.AdamW(self.parameters(), lr=0.001, foreach=True)"
   ]
  },
  {
   "cell_type": "code",
   "execution_count": 14,
   "metadata": {},
   "outputs": [],
   "source": [
    "model = Food101Classifier.load_from_checkpoint(\"~/SeeFood102/models/levit_256/checkpoints.ckpt\")"
   ]
  },
  {
   "cell_type": "code",
   "execution_count": 15,
   "metadata": {},
   "outputs": [
    {
     "data": {
      "text/plain": [
       "Compose(\n",
       "    Resize(size=248, interpolation=bicubic, max_size=None, antialias=warn)\n",
       "    CenterCrop(size=(224, 224))\n",
       "    ToTensor()\n",
       "    Normalize(mean=tensor([0.4850, 0.4560, 0.4060]), std=tensor([0.2290, 0.2240, 0.2250]))\n",
       ")"
      ]
     },
     "execution_count": 15,
     "metadata": {},
     "output_type": "execute_result"
    }
   ],
   "source": [
    "data_cfg = timm.data.resolve_data_config(model.model.pretrained_cfg)\n",
    "transform = timm.data.create_transform(**data_cfg)\n",
    "transform"
   ]
  },
  {
   "cell_type": "code",
   "execution_count": 16,
   "metadata": {},
   "outputs": [],
   "source": [
    "test_data = Food101('/root/SeeFood102/data', split='test', transform=transform)\n",
    "test_loader = DataLoader(test_data, batch_size=128, num_workers=16, pin_memory=True)"
   ]
  },
  {
   "cell_type": "code",
   "execution_count": 17,
   "metadata": {},
   "outputs": [],
   "source": [
    "from tqdm import tqdm\n",
    "\n",
    "\n",
    "def test_step(model, data_loader, accuracy_fn: torchmetrics.Metric = torchmetrics.Accuracy('multiclass', num_classes=101).to('cuda')):\n",
    "    test_acc = 0\n",
    "    model.eval()\n",
    "    model.freeze()\n",
    "    # Turn on inference context manager\n",
    "    with torch.inference_mode():\n",
    "        for images, labels in tqdm(data_loader,\n",
    "                                    total=len(data_loader),\n",
    "                                    desc='Making predictions:'):\n",
    "            images, labels = images.to('cuda'), labels.to('cuda')\n",
    "            # 1. Forward pass\n",
    "            preds = model(images)\n",
    "\n",
    "            # 2. Calculate accuracy\n",
    "            test_acc += accuracy_fn(preds.argmax(dim=1), labels)\n",
    "\n",
    "        # Adjust metrics and print out\n",
    "        test_acc /= len(data_loader)\n",
    "        print(f\"Test accuracy: {test_acc:.2f}\")\n",
    "    # return test_acc.cpu()"
   ]
  },
  {
   "cell_type": "code",
   "execution_count": 18,
   "metadata": {},
   "outputs": [
    {
     "name": "stderr",
     "output_type": "stream",
     "text": [
      "Making predictions:: 100%|██████████| 198/198 [00:09<00:00, 21.87it/s]"
     ]
    },
    {
     "name": "stdout",
     "output_type": "stream",
     "text": [
      "Test accuracy: 0.75\n"
     ]
    },
    {
     "name": "stderr",
     "output_type": "stream",
     "text": [
      "\n"
     ]
    }
   ],
   "source": [
    "test_step(model, test_loader)"
   ]
  },
  {
   "cell_type": "code",
   "execution_count": 5,
   "metadata": {},
   "outputs": [],
   "source": [
    "from torch.utils.data import random_split\n",
    "food101_train = Food101('../data', split='test', download=True, transform=transform) # type: ignore\n",
    "food101_test = Food101('../data', split='test', download=True, transform=transform) # type: ignore\n",
    "food101_train, a = random_split(food101_train, [0.8, 0.2], generator=torch.Generator().manual_seed(42)) # type: ignore\n",
    "b, food101_val = random_split(food101_test, [0.8, 0.2], generator=torch.Generator().manual_seed(42)) # type: ignore\n",
    "next(iter(a))\n",
    "next(iter(food101_val))"
   ]
  }
 ],
 "metadata": {
  "kernelspec": {
   "display_name": "seefood102",
   "language": "python",
   "name": "python3"
  },
  "language_info": {
   "codemirror_mode": {
    "name": "ipython",
    "version": 3
   },
   "file_extension": ".py",
   "mimetype": "text/x-python",
   "name": "python",
   "nbconvert_exporter": "python",
   "pygments_lexer": "ipython3",
   "version": "3.10.11"
  },
  "orig_nbformat": 4
 },
 "nbformat": 4,
 "nbformat_minor": 2
}
